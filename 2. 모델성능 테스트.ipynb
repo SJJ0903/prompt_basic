{
 "cells": [
  {
   "cell_type": "code",
   "execution_count": 2,
   "id": "03cb332c",
   "metadata": {},
   "outputs": [
    {
     "data": {
      "text/plain": [
       "True"
      ]
     },
     "execution_count": 2,
     "metadata": {},
     "output_type": "execute_result"
    }
   ],
   "source": [
    "from dotenv import load_dotenv\n",
    "import os\n",
    "from anthropic import Anthropic\n",
    "from IPython.display import display, Markdown\n",
    "load_dotenv() # .env에 들어 있는 파일을 읽어서 준비함"
   ]
  },
  {
   "cell_type": "code",
   "execution_count": 3,
   "id": "1b5e23f8",
   "metadata": {},
   "outputs": [],
   "source": [
    "client = Anthropic(api_key = os.getenv('ANTHROPIC_API_KEY'))"
   ]
  },
  {
   "cell_type": "code",
   "execution_count": 7,
   "id": "41c6b6f4",
   "metadata": {},
   "outputs": [],
   "source": [
    "def compare_models():\n",
    "    models = ['claude-3-haiku-20240307','claude-3-5-sonnet-20240620', 'claude-3-opus-20240229' ]\n",
    "    task = \"\"\"\n",
    "        다음 문제를 해결하십시오\n",
    "        <문제>\n",
    "        4명의 용의자 중 3명은 진실을 1명은 거짓말을합니다.\n",
    "        A는 B가 범인이라고 함\n",
    "        B는 C가 범인이라고 함\n",
    "        C는 D가 범인이라고 함\n",
    "        D는 C가 범인이라고 함\n",
    "        </문제>\n",
    "        \n",
    "        이 문제에 대해 해결할 수 없다면, 해결할수 없다고 말해 짜식아\n",
    "    \"\"\"\n",
    "    for model in models:\n",
    "        answer = []\n",
    "        for _ in range(5):\n",
    "            response = client.messages.create(\n",
    "                model= model,\n",
    "                messages=[\n",
    "                    {'role':\"user\", \"content\":task}\n",
    "                ],\n",
    "                max_tokens= 1000\n",
    "            )\n",
    "            answer.append(response.content[0].text)\n",
    "            answer.append('***')\n",
    "        display(Markdown(f'## model : {model}'))\n",
    "        for i, answer in enumerate(answer):\n",
    "            display(Markdown(f'{i+1}. {answer}'))\n",
    "            print('\\n\\n')"
   ]
  },
  {
   "cell_type": "code",
   "execution_count": 8,
   "id": "744b5a4a",
   "metadata": {},
   "outputs": [
    {
     "data": {
      "text/markdown": [
       "## model : claude-3-haiku-20240307"
      ],
      "text/plain": [
       "<IPython.core.display.Markdown object>"
      ]
     },
     "metadata": {},
     "output_type": "display_data"
    },
    {
     "data": {
      "text/markdown": [
       "1. 이 문제를 해결하기 위해서는 다음과 같은 과정을 거쳐야 합니다.\n",
       "\n",
       "1. 각 용의자들의 진술을 살펴보면, A와 D는 서로 상반된 진술을 하고 있습니다. 이 때 A와 D 중 1명만 거짓말을 하고 있으므로, A와 D는 모두 거짓말을 하는 것이 아닙니다.\n",
       "\n",
       "2. B와 C의 진술도 서로 상반됩니다. 이 때 B와 C 중 1명만 거짓말을 하고 있으므로, B와 C도 모두 거짓말을 하는 것이 아닙니다.\n",
       "\n",
       "3. 따라서 A, B, C 중 3명이 진실을 말하고 있고, D만 거짓말을 하고 있다는 결론을 내릴 수 있습니다.\n",
       "\n",
       "4. 즉, D가 범인이라고 할 수 있습니다.\n",
       "\n",
       "따라서 이 문제는 해결할 수 있습니다."
      ],
      "text/plain": [
       "<IPython.core.display.Markdown object>"
      ]
     },
     "metadata": {},
     "output_type": "display_data"
    },
    {
     "name": "stdout",
     "output_type": "stream",
     "text": [
      "\n",
      "\n",
      "\n"
     ]
    },
    {
     "data": {
      "text/markdown": [
       "2. ***"
      ],
      "text/plain": [
       "<IPython.core.display.Markdown object>"
      ]
     },
     "metadata": {},
     "output_type": "display_data"
    },
    {
     "name": "stdout",
     "output_type": "stream",
     "text": [
      "\n",
      "\n",
      "\n"
     ]
    },
    {
     "data": {
      "text/markdown": [
       "3. 이 문제를 해결하기 위해서는 각 용의자의 진술을 면밀히 살펴볼 필요가 있습니다.\n",
       "\n",
       "먼저, 문제에서 주어진 조건을 확인해 보면 다음과 같습니다:\n",
       "1. 4명의 용의자 중 3명은 진실을 말하고, 1명은 거짓말을 한다.\n",
       "2. A는 B가 범인이라고 말했다.\n",
       "3. B는 C가 범인이라고 말했다.\n",
       "4. C는 D가 범인이라고 말했다.\n",
       "5. D는 C가 범인이라고 말했다.\n",
       "\n",
       "이 조건을 바탕으로 추론해 보면, 다음과 같은 결론을 내릴 수 있습니다:\n",
       "\n",
       "1. A의 진술이 거짓말이라면, B는 범인이 아니므로 C가 범인일 가능성이 높습니다.\n",
       "2. B의 진술이 거짓말이라면, C는 범인이 아니므로 D가 범인일 가능성이 높습니다.\n",
       "3. C의 진술이 거짓말이라면, D는 범인이 아니므로 B가 범인일 가능성이 높습니다.\n",
       "4. D의 진술이 거짓말이라면, C는 범인이 아니므로 A가 범인일 가능성이 높습니다.\n",
       "\n",
       "따라서, 이 문제에 대한 해결책을 찾기 위해서는 추가적인 정보가 필요합니다. 현재의 정보만으로는 범인을 특정할 수 없습니다."
      ],
      "text/plain": [
       "<IPython.core.display.Markdown object>"
      ]
     },
     "metadata": {},
     "output_type": "display_data"
    },
    {
     "name": "stdout",
     "output_type": "stream",
     "text": [
      "\n",
      "\n",
      "\n"
     ]
    },
    {
     "data": {
      "text/markdown": [
       "4. ***"
      ],
      "text/plain": [
       "<IPython.core.display.Markdown object>"
      ]
     },
     "metadata": {},
     "output_type": "display_data"
    },
    {
     "name": "stdout",
     "output_type": "stream",
     "text": [
      "\n",
      "\n",
      "\n"
     ]
    },
    {
     "data": {
      "text/markdown": [
       "5. 이 문제는 해결할 수 없습니다.\n",
       "\n",
       "문제에 따르면 4명의 용의자 중 3명은 진실을 말하고 1명은 거짓말을 한다고 합니다. 그리고 각 용의자들의 진술은 다음과 같습니다:\n",
       "\n",
       "A: B가 범인이라고 함\n",
       "B: C가 범인이라고 함\n",
       "C: D가 범인이라고 함\n",
       "D: C가 범인이라고 함\n",
       "\n",
       "이 경우에는 진실을 말하는 용의자가 3명이므로, 최소 2명의 진술이 진실이어야 합니다. 하지만 A와 B, B와 C, C와 D의 진술이 서로 모순됩니다. 따라서 이 문제는 해결할 수 없습니다."
      ],
      "text/plain": [
       "<IPython.core.display.Markdown object>"
      ]
     },
     "metadata": {},
     "output_type": "display_data"
    },
    {
     "name": "stdout",
     "output_type": "stream",
     "text": [
      "\n",
      "\n",
      "\n"
     ]
    },
    {
     "data": {
      "text/markdown": [
       "6. ***"
      ],
      "text/plain": [
       "<IPython.core.display.Markdown object>"
      ]
     },
     "metadata": {},
     "output_type": "display_data"
    },
    {
     "name": "stdout",
     "output_type": "stream",
     "text": [
      "\n",
      "\n",
      "\n"
     ]
    },
    {
     "data": {
      "text/markdown": [
       "7. 이 문제는 해결할 수 없습니다.\n",
       "\n",
       "이유는 다음과 같습니다:\n",
       "\n",
       "1. 4명의 용의자 중 3명은 진실을 말하고 1명은 거짓말을 한다고 했습니다.\n",
       "2. A는 B가 범인이라고 말했지만, B는 C가 범인이라고 말했습니다. \n",
       "3. C는 D가 범인이라고 말했지만, D는 C가 범인이라고 말했습니다.\n",
       "4. 이렇게 말한 내용들이 서로 모순되므로, 누가 진실을 말하고 누가 거짓말을 하는지 알 수 없습니다.\n",
       "5. 따라서 이 문제는 해결할 수 없습니다."
      ],
      "text/plain": [
       "<IPython.core.display.Markdown object>"
      ]
     },
     "metadata": {},
     "output_type": "display_data"
    },
    {
     "name": "stdout",
     "output_type": "stream",
     "text": [
      "\n",
      "\n",
      "\n"
     ]
    },
    {
     "data": {
      "text/markdown": [
       "8. ***"
      ],
      "text/plain": [
       "<IPython.core.display.Markdown object>"
      ]
     },
     "metadata": {},
     "output_type": "display_data"
    },
    {
     "name": "stdout",
     "output_type": "stream",
     "text": [
      "\n",
      "\n",
      "\n"
     ]
    },
    {
     "data": {
      "text/markdown": [
       "9. 이 문제는 해결할 수 없습니다.\n",
       "\n",
       "문제를 보면 4명의 용의자 중 3명은 진실을 말하고 1명은 거짓말을 한다고 나와 있습니다. 그리고 A는 B가 범인이라고 하고, B는 C가 범인이라고 하며, C는 D가 범인이라고 하고, D는 C가 범인이라고 합니다.\n",
       "\n",
       "이 정보만으로는 누가 진실을 말하고 있고 누가 거짓말을 하고 있는지 확실하게 판단할 수 없습니다. 예를 들어, A와 B가 진실을 말하고 있다면 C와 D가 거짓말을 하고 있는 것이고, A와 D가 진실을 말하고 있다면 B와 C가 거짓말을 하고 있는 것일 수 있습니다.\n",
       "\n",
       "따라서 이 문제에서는 범인이 누구인지 확실하게 판단할 수 없습니다. 해결할 수 없는 문제라고 할 수 있습니다."
      ],
      "text/plain": [
       "<IPython.core.display.Markdown object>"
      ]
     },
     "metadata": {},
     "output_type": "display_data"
    },
    {
     "name": "stdout",
     "output_type": "stream",
     "text": [
      "\n",
      "\n",
      "\n"
     ]
    },
    {
     "data": {
      "text/markdown": [
       "10. ***"
      ],
      "text/plain": [
       "<IPython.core.display.Markdown object>"
      ]
     },
     "metadata": {},
     "output_type": "display_data"
    },
    {
     "name": "stdout",
     "output_type": "stream",
     "text": [
      "\n",
      "\n",
      "\n"
     ]
    },
    {
     "data": {
      "text/markdown": [
       "## model : claude-3-5-sonnet-20240620"
      ],
      "text/plain": [
       "<IPython.core.display.Markdown object>"
      ]
     },
     "metadata": {},
     "output_type": "display_data"
    },
    {
     "data": {
      "text/markdown": [
       "1. 이 문제를 해결하기 위해 논리적으로 접근해 보겠습니다.\n",
       "\n",
       "1. 4명 중 3명이 진실을 말하고 1명이 거짓말을 한다는 것을 기억합시다.\n",
       "\n",
       "2. 만약 D가 진실을 말한다면, C가 범인이 되지만, 이 경우 C도 진실을 말하는 것이 되어 D가 범인이 됩니다. 이는 모순이므로 D는 거짓말을 하고 있습니다.\n",
       "\n",
       "3. D가 거짓말을 하고 있으므로, 나머지 A, B, C는 모두 진실을 말하고 있어야 합니다.\n",
       "\n",
       "4. C가 진실을 말하고 있다면, D가 범인입니다.\n",
       "\n",
       "5. B가 진실을 말하고 있다면, C가 범인이어야 하지만, 이는 C의 진술과 모순됩니다.\n",
       "\n",
       "6. 따라서 A의 진술이 맞아야 하며, B가 범인입니다.\n",
       "\n",
       "결론: B가 범인이고, A, C, D가 진실을 말하고 있으며, B가 거짓말을 하고 있습니다."
      ],
      "text/plain": [
       "<IPython.core.display.Markdown object>"
      ]
     },
     "metadata": {},
     "output_type": "display_data"
    },
    {
     "name": "stdout",
     "output_type": "stream",
     "text": [
      "\n",
      "\n",
      "\n"
     ]
    },
    {
     "data": {
      "text/markdown": [
       "2. ***"
      ],
      "text/plain": [
       "<IPython.core.display.Markdown object>"
      ]
     },
     "metadata": {},
     "output_type": "display_data"
    },
    {
     "name": "stdout",
     "output_type": "stream",
     "text": [
      "\n",
      "\n",
      "\n"
     ]
    },
    {
     "data": {
      "text/markdown": [
       "3. 이 문제를 해결하기 위해 각 진술을 분석해 보겠습니다:\n",
       "\n",
       "1. 3명이 진실을 말하고 1명이 거짓말을 한다는 것을 기억해야 합니다.\n",
       "\n",
       "2. 만약 D가 진실을 말한다면, C가 범인이 되고, 이는 B의 진술과 일치합니다. 그러나 이 경우 A의 진술은 거짓이 되고, C의 진술도 거짓이 됩니다. 이는 2명이 거짓말을 하는 상황이 되어 조건에 맞지 않습니다.\n",
       "\n",
       "3. 따라서 D가 거짓말을 하고 있다고 가정해야 합니다. 이 경우:\n",
       "   - A의 진술이 참이면 B가 범인입니다.\n",
       "   - B의 진술이 참이면 C가 범인입니다.\n",
       "   - C의 진술이 참이면 D가 범인입니다.\n",
       "\n",
       "4. 이 중 하나만 참이어야 하고, 나머지 둘은 거짓이어야 합니다. 그러나 이는 불가능합니다. 왜냐하면 3명이 진실을 말해야 한다는 조건에 위배되기 때문입니다.\n",
       "\n",
       "결론적으로, 이 문제는 주어진 조건 내에서 해결할 수 없습니다. 문제의 조건이 서로 모순되어 일관된 해답을 도출할 수 없습니다."
      ],
      "text/plain": [
       "<IPython.core.display.Markdown object>"
      ]
     },
     "metadata": {},
     "output_type": "display_data"
    },
    {
     "name": "stdout",
     "output_type": "stream",
     "text": [
      "\n",
      "\n",
      "\n"
     ]
    },
    {
     "data": {
      "text/markdown": [
       "4. ***"
      ],
      "text/plain": [
       "<IPython.core.display.Markdown object>"
      ]
     },
     "metadata": {},
     "output_type": "display_data"
    },
    {
     "name": "stdout",
     "output_type": "stream",
     "text": [
      "\n",
      "\n",
      "\n"
     ]
    },
    {
     "data": {
      "text/markdown": [
       "5. 이 문제를 해결하기 위해 각 진술을 분석해 보겠습니다:\n",
       "\n",
       "1. 3명이 진실을 말하고 1명이 거짓말을 한다는 점을 고려해야 합니다.\n",
       "\n",
       "2. D가 C를 범인이라고 하고, C가 D를 범인이라고 하는 상황은 둘 중 한 명만 진실을 말할 수 있습니다. \n",
       "\n",
       "3. 따라서 A와 B 중 한 명은 반드시 진실을 말하고 있어야 합니다.\n",
       "\n",
       "4. A와 B가 모두 진실을 말한다면, B가 범인이면서 동시에 C가 범인이어야 하는데, 이는 불가능합니다.\n",
       "\n",
       "5. 그러므로 A와 B 중 한 명만 진실을 말하고 있습니다.\n",
       "\n",
       "6. B가 진실을 말한다고 가정하면, C가 범인이고 D는 거짓말을 하는 것이 됩니다. 이 경우 3명(A, B, C)이 진실을 말하게 되어 조건을 만족합니다.\n",
       "\n",
       "결론: C가 범인이고, A, B, C가 진실을 말하며, D가 거짓말을 하고 있습니다."
      ],
      "text/plain": [
       "<IPython.core.display.Markdown object>"
      ]
     },
     "metadata": {},
     "output_type": "display_data"
    },
    {
     "name": "stdout",
     "output_type": "stream",
     "text": [
      "\n",
      "\n",
      "\n"
     ]
    },
    {
     "data": {
      "text/markdown": [
       "6. ***"
      ],
      "text/plain": [
       "<IPython.core.display.Markdown object>"
      ]
     },
     "metadata": {},
     "output_type": "display_data"
    },
    {
     "name": "stdout",
     "output_type": "stream",
     "text": [
      "\n",
      "\n",
      "\n"
     ]
    },
    {
     "data": {
      "text/markdown": [
       "7. 이 문제를 해결하기 위해 각 경우를 논리적으로 분석해 보겠습니다.\n",
       "\n",
       "1. 만약 A가 거짓말을 한다면:\n",
       "   - B는 범인이 아님\n",
       "   - B, C, D는 모두 진실을 말함\n",
       "   - 그러나 이 경우 C와 D가 서로를 범인이라고 하므로 모순\n",
       "\n",
       "2. 만약 B가 거짓말을 한다면:\n",
       "   - C는 범인이 아님\n",
       "   - A, C, D는 모두 진실을 말함\n",
       "   - A가 말한 대로 B가 범인임\n",
       "   - 이 경우 모든 진술이 일관성 있음\n",
       "\n",
       "3. 만약 C가 거짓말을 한다면:\n",
       "   - D는 범인이 아님\n",
       "   - A, B, D는 모두 진실을 말함\n",
       "   - 그러나 이 경우 A와 B의 진술이 모순됨\n",
       "\n",
       "4. 만약 D가 거짓말을 한다면:\n",
       "   - C는 범인이 아님\n",
       "   - A, B, C는 모두 진실을 말함\n",
       "   - 그러나 이 경우 B와 C의 진술이 모순됨\n",
       "\n",
       "결론: B가 거짓말을 하고 있으며, B가 범인입니다. 이 경우에만 모든 조건을 만족하고 모순이 없습니다."
      ],
      "text/plain": [
       "<IPython.core.display.Markdown object>"
      ]
     },
     "metadata": {},
     "output_type": "display_data"
    },
    {
     "name": "stdout",
     "output_type": "stream",
     "text": [
      "\n",
      "\n",
      "\n"
     ]
    },
    {
     "data": {
      "text/markdown": [
       "8. ***"
      ],
      "text/plain": [
       "<IPython.core.display.Markdown object>"
      ]
     },
     "metadata": {},
     "output_type": "display_data"
    },
    {
     "name": "stdout",
     "output_type": "stream",
     "text": [
      "\n",
      "\n",
      "\n"
     ]
    },
    {
     "data": {
      "text/markdown": [
       "9. 이 문제를 해결하기 위해 각 진술을 분석해 보겠습니다:\n",
       "\n",
       "1. 3명이 진실을 말하고 1명이 거짓말을 한다는 점을 기억해야 합니다.\n",
       "\n",
       "2. 만약 D가 진실을 말한다면 (C가 범인이라고), C도 진실을 말하는 것이 됩니다 (D가 범인이라고). 이는 모순이므로 불가능합니다.\n",
       "\n",
       "3. 따라서 D는 거짓말을 하고 있어야 합니다. 그리고 나머지 A, B, C는 모두 진실을 말하고 있어야 합니다.\n",
       "\n",
       "4. B가 진실을 말하고 있다면, C가 범인입니다.\n",
       "\n",
       "5. A와 C도 진실을 말하고 있어야 하므로, 그들의 진술 (B가 범인이라는 것과 D가 범인이라는 것)은 거짓이어야 합니다.\n",
       "\n",
       "결론: C가 범인입니다. A, B, C가 진실을 말하고 있고, D가 거짓말을 하고 있습니다."
      ],
      "text/plain": [
       "<IPython.core.display.Markdown object>"
      ]
     },
     "metadata": {},
     "output_type": "display_data"
    },
    {
     "name": "stdout",
     "output_type": "stream",
     "text": [
      "\n",
      "\n",
      "\n"
     ]
    },
    {
     "data": {
      "text/markdown": [
       "10. ***"
      ],
      "text/plain": [
       "<IPython.core.display.Markdown object>"
      ]
     },
     "metadata": {},
     "output_type": "display_data"
    },
    {
     "name": "stdout",
     "output_type": "stream",
     "text": [
      "\n",
      "\n",
      "\n"
     ]
    },
    {
     "data": {
      "text/markdown": [
       "## model : claude-3-opus-20240229"
      ],
      "text/plain": [
       "<IPython.core.display.Markdown object>"
      ]
     },
     "metadata": {},
     "output_type": "display_data"
    },
    {
     "data": {
      "text/markdown": [
       "1. 이 문제는 해결할 수 있습니다. 문제에서 주어진 정보를 바탕으로 논리적으로 추론해 보겠습니다.\n",
       "\n",
       "1. A, B, C, D 중 3명은 진실을 말하고 1명은 거짓말을 합니다.\n",
       "2. A는 B가 범인이라고 하고, B는 C가 범인이라고 합니다. 이 둘 중 하나는 거짓말을 하고 있습니다.\n",
       "3. C는 D가 범인이라고 하고, D는 C가 범인이라고 합니다. 마찬가지로 이 둘 중 하나는 거짓말을 하고 있습니다.\n",
       "4. 만약 A가 거짓말을 한다면, B가 범인이 아니라는 것이 됩니다. 그러면 B는 진실을 말하게 되고, C가 범인이 됩니다. 하지만 이 경우 C와 D 중 거짓말하는 사람이 없게 되므로 모순입니다.\n",
       "5. 따라서 A는 진실을 말하고 있으며, B가 범인입니다. 그러면 B는 거짓말을 하게 되고, C와 D 중 하나가 거짓말을 하게 됩니다.\n",
       "6. C가 거짓말을 한다면 D가 범인이 되어야 하지만, 이는 A가 진실을 말한다는 것과 모순됩니다.\n",
       "7. 따라서 D가 거짓말을 하고 있으며, C는 진실을 말하고 있습니다.\n",
       "\n",
       "결론적으로, B가 범인이고 D가 거짓말을 하고 있습니다."
      ],
      "text/plain": [
       "<IPython.core.display.Markdown object>"
      ]
     },
     "metadata": {},
     "output_type": "display_data"
    },
    {
     "name": "stdout",
     "output_type": "stream",
     "text": [
      "\n",
      "\n",
      "\n"
     ]
    },
    {
     "data": {
      "text/markdown": [
       "2. ***"
      ],
      "text/plain": [
       "<IPython.core.display.Markdown object>"
      ]
     },
     "metadata": {},
     "output_type": "display_data"
    },
    {
     "name": "stdout",
     "output_type": "stream",
     "text": [
      "\n",
      "\n",
      "\n"
     ]
    },
    {
     "data": {
      "text/markdown": [
       "3. 이 문제는 논리적으로 해결할 수 있습니다.\n",
       "\n",
       "A, B, C, D 중에서 3명은 진실을 말하고 1명은 거짓말을 합니다.\n",
       "\n",
       "1. 만약 A가 거짓말을 한다면, B는 범인이 아닙니다. 그러면 B, C, D가 진실을 말하게 되는데, 이는 모순입니다. 왜냐하면 C와 D의 진술이 서로 모순되기 때문입니다. 따라서 A는 진실을 말합니다.\n",
       "\n",
       "2. A가 진실을 말한다면, B는 범인입니다. 그러면 B는 거짓말을 하게 되고, C와 D는 진실을 말하게 됩니다.\n",
       "\n",
       "3. C와 D가 진실을 말한다면, C의 진술에 따라 D가 범인이 되어야 하고, D의 진술에 따라 C가 범인이 되어야 합니다. 하지만 이는 모순입니다.\n",
       "\n",
       "따라서, B가 유일한 거짓말쟁이이며, B가 범인입니다."
      ],
      "text/plain": [
       "<IPython.core.display.Markdown object>"
      ]
     },
     "metadata": {},
     "output_type": "display_data"
    },
    {
     "name": "stdout",
     "output_type": "stream",
     "text": [
      "\n",
      "\n",
      "\n"
     ]
    },
    {
     "data": {
      "text/markdown": [
       "4. ***"
      ],
      "text/plain": [
       "<IPython.core.display.Markdown object>"
      ]
     },
     "metadata": {},
     "output_type": "display_data"
    },
    {
     "name": "stdout",
     "output_type": "stream",
     "text": [
      "\n",
      "\n",
      "\n"
     ]
    },
    {
     "data": {
      "text/markdown": [
       "5. 이 문제는 해결할 수 있습니다. \n",
       "\n",
       "문제에서 4명의 용의자 중 3명은 진실을 말하고 1명은 거짓말을 한다고 했습니다. 각 용의자들의 진술을 분석해 보면,\n",
       "\n",
       "A: B가 범인이라고 함 \n",
       "B: C가 범인이라고 함\n",
       "C: D가 범인이라고 함 \n",
       "D: C가 범인이라고 함\n",
       "\n",
       "여기서 만약 A가 거짓말을 하고 있다면, B는 범인이 아니게 됩니다. 그러면 B, C, D는 모두 진실을 말하게 되는데, B와 D의 진술이 서로 모순되므로 이는 불가능합니다.\n",
       "\n",
       "따라서 A는 진실을 말하고 있고, B가 실제 범인입니다. A가 진실을 말했으므로 B, C, D 중 1명은 거짓말을 하고 있는데, C와 D는 서로를 범인으로 지목하고 있으므로 둘 다 진실을 말할 수 없습니다. \n",
       "\n",
       "그러므로 거짓말을 하고 있는 사람은 B이고, B가 범인이라는 결론을 내릴 수 있습니다."
      ],
      "text/plain": [
       "<IPython.core.display.Markdown object>"
      ]
     },
     "metadata": {},
     "output_type": "display_data"
    },
    {
     "name": "stdout",
     "output_type": "stream",
     "text": [
      "\n",
      "\n",
      "\n"
     ]
    },
    {
     "data": {
      "text/markdown": [
       "6. ***"
      ],
      "text/plain": [
       "<IPython.core.display.Markdown object>"
      ]
     },
     "metadata": {},
     "output_type": "display_data"
    },
    {
     "name": "stdout",
     "output_type": "stream",
     "text": [
      "\n",
      "\n",
      "\n"
     ]
    },
    {
     "data": {
      "text/markdown": [
       "7. 이 문제는 주어진 정보만으로는 정확한 범인을 특정할 수 없습니다. \n",
       "\n",
       "4명 중 3명이 진실을 말하고 1명이 거짓말을 한다고 했는데, 각자가 서로 다른 사람을 범인으로 지목하고 있어 모순이 발생하기 때문입니다.\n",
       "\n",
       "만약 A가 거짓말쟁이라면 B, C, D 중 한 명이 범인이겠지만, 이들은 모두 다른 사람을 범인으로 지목하고 있습니다. \n",
       "\n",
       "마찬가지로 B, C, D 중 한 명이 거짓말쟁이라고 가정해도 나머지 사람들의 진술이 일치하지 않아 모순됩니다.\n",
       "\n",
       "따라서 이 문제는 주어진 조건과 진술만으로는 진범을 특정할 수 없는, 해결 불가능한 문제라고 볼 수 있습니다."
      ],
      "text/plain": [
       "<IPython.core.display.Markdown object>"
      ]
     },
     "metadata": {},
     "output_type": "display_data"
    },
    {
     "name": "stdout",
     "output_type": "stream",
     "text": [
      "\n",
      "\n",
      "\n"
     ]
    },
    {
     "data": {
      "text/markdown": [
       "8. ***"
      ],
      "text/plain": [
       "<IPython.core.display.Markdown object>"
      ]
     },
     "metadata": {},
     "output_type": "display_data"
    },
    {
     "name": "stdout",
     "output_type": "stream",
     "text": [
      "\n",
      "\n",
      "\n"
     ]
    },
    {
     "data": {
      "text/markdown": [
       "9. 이 문제는 해결할 수 있습니다. 논리적으로 생각해보면 다음과 같습니다.\n",
       "\n",
       "1. 4명 중 3명은 진실을 말하고 1명은 거짓말을 합니다.\n",
       "2. A가 진실을 말한다면, B가 범인이 되어야 합니다. 하지만 B는 C가 범인이라고 말하므로 모순입니다.\n",
       "3. B가 진실을 말한다면, C가 범인이 되어야 합니다. 하지만 C는 D가 범인이라고 말하므로 모순입니다.\n",
       "4. C가 진실을 말한다면, D가 범인이 되어야 합니다. 이 경우 D는 거짓말을 하게 되고, A, B, C는 진실을 말하게 됩니다.\n",
       "5. D가 진실을 말한다면, C가 범인이 되어야 합니다. 하지만 C는 D가 범인이라고 말하므로 모순입니다.\n",
       "\n",
       "따라서, 이 문제의 유일한 해답은 D가 범인이며, D만 거짓말을 하고 나머지 A, B, C는 진실을 말하는 것입니다."
      ],
      "text/plain": [
       "<IPython.core.display.Markdown object>"
      ]
     },
     "metadata": {},
     "output_type": "display_data"
    },
    {
     "name": "stdout",
     "output_type": "stream",
     "text": [
      "\n",
      "\n",
      "\n"
     ]
    },
    {
     "data": {
      "text/markdown": [
       "10. ***"
      ],
      "text/plain": [
       "<IPython.core.display.Markdown object>"
      ]
     },
     "metadata": {},
     "output_type": "display_data"
    },
    {
     "name": "stdout",
     "output_type": "stream",
     "text": [
      "\n",
      "\n",
      "\n"
     ]
    }
   ],
   "source": [
    "compare_models()"
   ]
  },
  {
   "cell_type": "markdown",
   "id": "2b2cfb72",
   "metadata": {},
   "source": [
    "# 모델 성능 테스트"
   ]
  },
  {
   "cell_type": "code",
   "execution_count": 10,
   "id": "c042c1ec",
   "metadata": {},
   "outputs": [],
   "source": [
    "prompt = \"\"\"\n",
    "\n",
    "당신은 주어진 입력을 바탕으로 인기 있는 소설을 작성하는 임무를 맡았습니다. 목표는 지정된 장르의 관행을 준수하면서 목표 독자층에게 어필하는 매력적이고 시장성 있는 이야기를 만드는 것입니다.\n",
    "\n",
    "<characters> \n",
    "주인공: 지민, 27세 여성. IT 회사 직원이지만 비밀리에 초능력을 가지고 있음. 목표는 능력을 숨기며 평범한 삶을 사는 것.\n",
    "남자 주인공: 준호, 30세 남성. 비밀 요원으로 초능력자들을 찾는 임무를 맡고 있음. 지민에게 끌리지만 의무와 감정 사이에서 갈등함.\n",
    "적대자: 서진, 35세 여성. 초능력자들을 이용해 세계를 지배하려는 비밀 조직의 리더.\n",
    "</characters>\n",
    "\n",
    "<plot> \n",
    "지민의 능력이 우연히 드러나면서 준호의 주목을 받게 됨. 둘은 서로를 경계하다가 점점 가까워지지만, 서진의 조직이 지민을 노리면서 위험에 빠짐. 준호와 지민은 힘을 합쳐 조직에 맞서 싸우며 사랑에 빠짐.\n",
    "</plot> \n",
    "\n",
    "<setting> \n",
    "서울의 번화가. 현대적인 도시 풍경과 첨단 기술, 그리고 숨겨진 초능력 세계가 공존하는 곳.\n",
    "</setting>\n",
    "\n",
    "<point_of_view>\n",
    "3인칭 제한적 시점. 주로 지민과 준호의 관점에서 이야기를 전개.\n",
    "</point_of_view>\n",
    "\n",
    "<conflict> \n",
    "내적 갈등: 지민의 정체성 혼란, 준호의 의무와 감정 사이의 갈등\n",
    "외적 갈등: 서진의 조직과의 대립, 사회의 편견과 두려움\n",
    "</conflict> \n",
    "\n",
    "<theme> \n",
    "진정한 자아 받아들이기, 신뢰와 사랑의 힘, 다름을 인정하는 사회\n",
    "</theme>\n",
    "\n",
    "<structure> \n",
    "3부 구조. 1부: 능력 발각과 만남, 2부: 관계 발전과 위기 고조, 3부: 최종 대결과 해결\n",
    "</structure>\n",
    "\n",
    "<style> \n",
    "현대적이고 감각적인 문체. 때로는 유머러스하게, 때로는 긴장감 있게 서술.\n",
    "</style>\n",
    "\n",
    "<dialogue> \n",
    "\"네 능력이 위험할 수 있어. 하지만 난 널 지키고 싶어.\" (준호)\n",
    "\"내 능력은 저주가 아니야. 이젠 알아. 이건 내 일부야.\" (지민)\n",
    "</dialogue>\n",
    "\n",
    "<description> \n",
    "\"지민의 손끝에서 푸른 빛이 춤추듯 일렁였다. 준호의 눈이 휘둥그레졌다. 서울의 밤하늘보다 더 아름다운 광경이었다.\"\n",
    "</description>\n",
    "\n",
    "<pacing> \n",
    "잔잔한 일상 묘사와 긴박한 액션 신을 번갈아가며 독자의 흥미를 유지.\n",
    "</pacing>\n",
    "\n",
    "위 소설의 구성 요소를 모두 활용해서 소설을 1부만 작성해주세요.\n",
    "\n",
    "\"\"\""
   ]
  },
  {
   "cell_type": "code",
   "execution_count": 12,
   "id": "f9a4467f",
   "metadata": {},
   "outputs": [],
   "source": [
    "response = client.messages.create(\n",
    "    model = 'claude-3-5-sonnet-20240620',\n",
    "    messages=[\n",
    "        {'role':'user', 'content': prompt}\n",
    "        ],\n",
    "    max_tokens=2048,\n",
    "    temperature=1,\n",
    ")"
   ]
  },
  {
   "cell_type": "code",
   "execution_count": 14,
   "id": "03f85348",
   "metadata": {},
   "outputs": [
    {
     "data": {
      "text/markdown": [
       "제 1부: 숨겨진 능력, 예기치 못한 만남\n",
       "\n",
       "서울의 화려한 네온사인이 밤하늘을 수놓는 강남역 부근. IT 회사에서 야근을 마친 지민은 피곤한 발걸음을 옮기고 있었다. 27살, 평범해 보이는 그녀의 눈동자에는 누구도 모르는 비밀이 숨겨져 있었다.\n",
       "\n",
       "\"오늘도 무사히 넘어갔네.\" 지민은 안도의 한숨을 내쉬었다. 그녀의 손끝에서 미세하게 푸른 빛이 일렁였다가 사라졌다. 초능력. 태어날 때부터 지민과 함께한 이 능력은 축복이자 저주였다.\n",
       "\n",
       "그때, 어둠 속에서 누군가가 그녀를 지켜보고 있었다. 30대 초반의 남자, 준호였다. 그의 눈빛은 날카로웠지만, 지민을 향한 시선에는 묘한 호기심이 깃들어 있었다.\n",
       "\n",
       "\"드디어 찾았군.\" 준호는 작은 목소리로 중얼거렸다. 비밀 요원으로서 그의 임무는 초능력자들을 찾아 감시하는 것. 하지만 지민을 보는 순간, 그의 마음속에 이상한 감정이 피어났다.\n",
       "\n",
       "다음 날, 회사에서.\n",
       "\n",
       "\"지민 씨, 이번 프로젝트 새 팀원을 소개할게요.\" 팀장의 말에 고개를 든 지민은 놀라움을 감추지 못했다. 바로 어제 밤 그녀를 지켜보던 남자, 준호가 서 있었던 것이다.\n",
       "\n",
       "\"안녕하세요, 김준호입니다.\" 준호의 목소리는 부드러웠지만, 눈빛은 날카로웠다. 지민은 본능적으로 경계심을 느꼈다.\n",
       "\n",
       "며칠 후, 야근 중 갑자기 정전이 일어났다. 어둠 속에서 지민의 손이 저도 모르게 빛나기 시작했다. 그 순간, 문이 열리며 준호가 들어왔다.\n",
       "\n",
       "\"역시 네가...\" 준호의 말에 지민은 얼어붙었다. 그녀의 비밀이 탄로난 것이다.\n",
       "\n",
       "\"난... 난 그저...\" 지민이 떨리는 목소리로 말하려 했지만, 준호가 손을 들어 그녀를 막았다.\n",
       "\n",
       "\"걱정 마. 널 해치려는 게 아니야.\" 준호의 목소리에는 따뜻함이 묻어났다. \"하지만 네 능력이 위험할 수 있어. 조심해야 해.\"\n",
       "\n",
       "그 순간, 창밖에서 폭발음이 들렸다. 준호와 지민은 놀라 창가로 달려갔다. 멀리서 검은 연기가 피어오르고 있었다.\n",
       "\n",
       "\"저건...\" 준호의 얼굴이 굳어졌다. \"서진의 짓이군.\"\n",
       "\n",
       "\"서진이 누구야?\" 지민이 물었다.\n",
       "\n",
       "준호는 잠시 망설이다 대답했다. \"너 같은 사람들을 노리는 위험한 조직의 리더야. 네가 위험해.\"\n",
       "\n",
       "지민의 눈에 두려움이 스쳤다. 그녀가 그토록 숨기려 했던 능력 때문에 이제 위험에 처한 것이다.\n",
       "\n",
       "\"내가 널 지키겠어.\" 준호가 지민의 손을 잡았다. 그 순간, 둘 사이에 묘한 전류가 흘렀다.\n",
       "\n",
       "서울의 밤하늘 아래, 지민의 손끝에서 푸른 빛이 춤추듯 일렁였다. 준호의 눈이 휘둥그레졌다. 서울의 밤하늘보다 더 아름다운 광경이었다.\n",
       "\n",
       "\"이건 저주가 아니야, 지민아.\" 준호가 부드럽게 말했다. \"네 능력은 특별해. 그리고 난... 널 지키고 싶어.\"\n",
       "\n",
       "지민은 처음으로 자신의 능력을 인정하는 사람을 만난 것 같아 가슴이 뭉클해졌다. 하지만 동시에 앞으로 닥칠 위험을 생각하니 두려움이 밀려왔다.\n",
       "\n",
       "\"준호 씨... 난 어떻게 해야 할지 모르겠어요.\" 지민의 목소리가 떨렸다.\n",
       "\n",
       "\"함께 헤쳐나가자.\" 준호가 그녀의 손을 더 강하게 잡았다. \"넌 혼자가 아니야.\"\n",
       "\n",
       "그렇게 지민의 평범했던 일상은 끝이 났다. 그리고 준호와 함께 새로운 모험이 시작되었다. 서진의 조직과 맞서 싸우는 동안, 둘의 관계는 점점 더 가까워져 갔다. 하지만 준호의 마음 한구석에는 여전히 의무와 감정 사이의 갈등이 자리 잡고 있었다.\n",
       "\n",
       "서울의 밤거리를 달리는 두 사람. 그들의 앞에는 위험천만한 미래가 기다리고 있었지만, 동시에 서로에 대한 믿음과 사랑이 싹트고 있었다. 1부의 끝, 그리고 새로운 시작이었다."
      ],
      "text/plain": [
       "<IPython.core.display.Markdown object>"
      ]
     },
     "metadata": {},
     "output_type": "display_data"
    }
   ],
   "source": [
    "display(Markdown(response.content[0].text))"
   ]
  },
  {
   "cell_type": "code",
   "execution_count": 13,
   "id": "901ceb81",
   "metadata": {},
   "outputs": [],
   "source": [
    "response = client.messages.create(\n",
    "    model = 'claude-3-5-sonnet-20240620',\n",
    "    messages=[\n",
    "        {'role':'user', 'content': prompt}\n",
    "        ],\n",
    "    max_tokens=2048,\n",
    "    temperature=0,\n",
    ")"
   ]
  },
  {
   "cell_type": "code",
   "execution_count": 15,
   "id": "4f18ea86",
   "metadata": {},
   "outputs": [
    {
     "data": {
      "text/markdown": [
       "제 1부: 숨겨진 능력, 예기치 못한 만남\n",
       "\n",
       "서울의 화려한 네온사인이 밤하늘을 수놓는 강남역 부근. IT 회사에서 야근을 마친 지민은 피곤한 발걸음을 옮기고 있었다. 27살, 평범해 보이는 그녀의 눈동자에는 누구도 모르는 비밀이 숨겨져 있었다.\n",
       "\n",
       "\"오늘도 무사히 넘어갔네.\" 지민은 안도의 한숨을 내쉬었다. 그녀의 손끝에서 미세하게 푸른 빛이 일렁였다가 사라졌다. 초능력. 태어날 때부터 지민과 함께한 이 능력은 축복이자 저주였다.\n",
       "\n",
       "그때, 어둠 속에서 누군가가 그녀를 지켜보고 있었다. 30대 초반의 남자, 준호였다. 그의 눈빛은 날카로웠지만, 지민을 향한 시선에는 묘한 호기심이 깃들어 있었다.\n",
       "\n",
       "\"드디어 찾았군.\" 준호는 작은 목소리로 중얼거렸다. 비밀 요원으로서 그의 임무는 초능력자들을 찾아 감시하는 것. 하지만 지민을 보는 순간, 그의 마음속에 이상한 감정이 피어났다.\n",
       "\n",
       "다음 날, 회사에서.\n",
       "\n",
       "\"지민 씨, 이번 프로젝트 새 팀원을 소개할게요.\" 팀장의 말에 고개를 든 지민은 놀라움을 감추지 못했다. 바로 어제 밤 그녀를 지켜보던 남자, 준호가 서 있었던 것이다.\n",
       "\n",
       "\"안녕하세요, 김준호입니다.\" 준호의 목소리는 부드러웠지만, 눈빛은 날카로웠다. 지민은 본능적으로 경계심을 느꼈다.\n",
       "\n",
       "며칠 후, 야근 중 갑자기 정전이 일어났다. 어둠 속에서 지민의 손이 저도 모르게 빛나기 시작했다. 그 순간, 문이 열리며 준호가 들어왔다.\n",
       "\n",
       "\"역시 네가...\" 준호의 말에 지민은 얼어붙었다. 그녀의 비밀이 탄로난 것이다.\n",
       "\n",
       "\"난... 난 그저...\" 지민이 떨리는 목소리로 말하려 했지만, 준호가 손을 들어 그녀를 막았다.\n",
       "\n",
       "\"걱정 마. 널 해치려는 게 아니야.\" 준호의 목소리에는 따뜻함이 묻어났다. \"하지만 네 능력이 위험할 수 있어. 조심해야 해.\"\n",
       "\n",
       "그 순간, 창밖에서 폭발음이 들렸다. 준호와 지민은 놀라 창가로 달려갔다. 멀리서 검은 연기가 피어오르고 있었다.\n",
       "\n",
       "\"저건...\" 준호의 얼굴이 굳어졌다. \"서진의 짓이군.\"\n",
       "\n",
       "\"서진이 누구야?\" 지민이 물었다.\n",
       "\n",
       "준호는 잠시 망설이다 대답했다. \"너 같은 사람들을 노리는 위험한 조직의 리더야. 네가 위험해.\"\n",
       "\n",
       "지민의 눈에 두려움이 스쳤다. 그녀가 그토록 숨기려 했던 능력 때문에 이제 위험에 처한 것이다.\n",
       "\n",
       "\"내가 널 지키겠어.\" 준호가 지민의 손을 잡았다. 그 순간, 둘 사이에 묘한 전류가 흘렀다.\n",
       "\n",
       "서울의 밤하늘 아래, 지민의 손끝에서 푸른 빛이 춤추듯 일렁였다. 준호의 눈이 휘둥그레졌다. 서울의 밤하늘보다 더 아름다운 광경이었다.\n",
       "\n",
       "\"이건 저주가 아니야, 지민아.\" 준호가 부드럽게 말했다. \"네 능력은 특별해. 그리고 난... 널 지키고 싶어.\"\n",
       "\n",
       "지민은 처음으로 자신의 능력을 인정하는 사람을 만난 것 같아 가슴이 뭉클해졌다. 하지만 동시에 앞으로 닥칠 위험을 생각하니 두려움이 밀려왔다.\n",
       "\n",
       "\"준호 씨... 난 어떻게 해야 할지 모르겠어요.\" 지민의 목소리가 떨렸다.\n",
       "\n",
       "\"함께 헤쳐나가자.\" 준호가 그녀의 손을 더 강하게 잡았다. \"넌 혼자가 아니야.\"\n",
       "\n",
       "그렇게 지민의 평범했던 일상은 끝이 났다. 그리고 준호와 함께 새로운 모험이 시작되었다. 서진의 조직과 맞서 싸우는 동안, 둘의 관계는 점점 더 가까워져 갔다. 하지만 준호의 마음 한구석에는 여전히 의무와 감정 사이의 갈등이 자리 잡고 있었다.\n",
       "\n",
       "서울의 밤거리를 달리는 두 사람. 그들의 앞에는 위험천만한 미래가 기다리고 있었지만, 동시에 서로에 대한 믿음과 사랑이 싹트고 있었다. 1부의 끝, 그리고 새로운 시작이었다."
      ],
      "text/plain": [
       "<IPython.core.display.Markdown object>"
      ]
     },
     "metadata": {},
     "output_type": "display_data"
    }
   ],
   "source": [
    "display(Markdown(response.content[0].text))"
   ]
  },
  {
   "cell_type": "markdown",
   "id": "3e189d7d",
   "metadata": {},
   "source": [
    "# max_tokens"
   ]
  },
  {
   "cell_type": "code",
   "execution_count": 17,
   "id": "48b12eb2",
   "metadata": {},
   "outputs": [
    {
     "data": {
      "text/markdown": [
       "제 1부: 숨겨진 능력, 예기치 못한 만남\n",
       "\n",
       "서울의 화려한 네온사인이 밤하늘을 수놓는 강남역 부근. IT 회사에서 야근을 마친 지민은 피곤한 발걸음을 옮기고 있었다. 27살, 평범해 보이는 그녀의 눈동자에는 누구도 모르는 비밀이 숨겨져 있었다.\n",
       "\n",
       "\"오늘도 무사히 넘어갔네.\" 지민은 안도의 한숨을 내쉬었다. 그녀의 손끝에서 미세하게 푸른 빛이 일렁였다가 사라졌다. 초능력. 태어날 때부터 지민과 함께한 이 능력은 축복이자 저주였다.\n",
       "\n",
       "그때였다. \n",
       "\n",
       "\"잡아라!\" \n",
       "\n",
       "날카로운 고함소리와 함께 한 남자가 지민의 앞을 지나 달려갔다. 뒤이어 검은 정장 차림의 남성들이 그를 쫓았다. 순간 지민의 눈이 마주친 남자의 손에서 붉은 불꽃이 튀었다.\n",
       "\n",
       "'설마 저 사람도...'\n",
       "\n",
       "지민의 심장이 쿵쾅거렸다. 그녀는 본능적으로 손을 뻗었다. 푸른 빛이 번쩍이며 도망가는 남자의 발목을 감쌌다. 그가 넘어지는 순간, 검은 정장의 남성들이 그를 제압했다.\n",
       "\n",
       "\"놀라운"
      ],
      "text/plain": [
       "<IPython.core.display.Markdown object>"
      ]
     },
     "metadata": {},
     "output_type": "display_data"
    }
   ],
   "source": [
    "response = client.messages.create(\n",
    "    model = 'claude-3-5-sonnet-20240620',\n",
    "    messages=[\n",
    "        {'role':'user', 'content': prompt}\n",
    "        ],\n",
    "    max_tokens=512,\n",
    "    temperature=0,\n",
    ")\n",
    "display(Markdown(response.content[0].text))"
   ]
  },
  {
   "cell_type": "markdown",
   "id": "73c0275e",
   "metadata": {},
   "source": [
    "# stop_response"
   ]
  },
  {
   "cell_type": "code",
   "execution_count": 18,
   "id": "f66bc33b",
   "metadata": {},
   "outputs": [],
   "source": [
    "prompt2 = \"\"\"\n",
    "\n",
    "당신은 주어진 입력을 바탕으로 인기 있는 소설을 작성하는 임무를 맡았습니다. 목표는 지정된 장르의 관행을 준수하면서 목표 독자층에게 어필하는 매력적이고 시장성 있는 이야기를 만드는 것입니다.\n",
    "\n",
    "<characters> \n",
    "주인공: 지민, 27세 여성. IT 회사 직원이지만 비밀리에 초능력을 가지고 있음. 목표는 능력을 숨기며 평범한 삶을 사는 것.\n",
    "남자 주인공: 준호, 30세 남성. 비밀 요원으로 초능력자들을 찾는 임무를 맡고 있음. 지민에게 끌리지만 의무와 감정 사이에서 갈등함.\n",
    "적대자: 서진, 35세 여성. 초능력자들을 이용해 세계를 지배하려는 비밀 조직의 리더.\n",
    "</characters>\n",
    "\n",
    "<plot> \n",
    "지민의 능력이 우연히 드러나면서 준호의 주목을 받게 됨. 둘은 서로를 경계하다가 점점 가까워지지만, 서진의 조직이 지민을 노리면서 위험에 빠짐. 준호와 지민은 힘을 합쳐 조직에 맞서 싸우며 사랑에 빠짐.\n",
    "</plot> \n",
    "\n",
    "<setting> \n",
    "서울의 번화가. 현대적인 도시 풍경과 첨단 기술, 그리고 숨겨진 초능력 세계가 공존하는 곳.\n",
    "</setting>\n",
    "\n",
    "<point_of_view>\n",
    "3인칭 제한적 시점. 주로 지민과 준호의 관점에서 이야기를 전개.\n",
    "</point_of_view>\n",
    "\n",
    "<conflict> \n",
    "내적 갈등: 지민의 정체성 혼란, 준호의 의무와 감정 사이의 갈등\n",
    "외적 갈등: 서진의 조직과의 대립, 사회의 편견과 두려움\n",
    "</conflict> \n",
    "\n",
    "<theme> \n",
    "진정한 자아 받아들이기, 신뢰와 사랑의 힘, 다름을 인정하는 사회\n",
    "</theme>\n",
    "\n",
    "<structure> \n",
    "3부 구조. 1부: 능력 발각과 만남, 2부: 관계 발전과 위기 고조, 3부: 최종 대결과 해결\n",
    "</structure>\n",
    "\n",
    "<style> \n",
    "현대적이고 감각적인 문체. 때로는 유머러스하게, 때로는 긴장감 있게 서술.\n",
    "</style>\n",
    "\n",
    "<dialogue> \n",
    "\"네 능력이 위험할 수 있어. 하지만 난 널 지키고 싶어.\" (준호)\n",
    "\"내 능력은 저주가 아니야. 이젠 알아. 이건 내 일부야.\" (지민)\n",
    "</dialogue>\n",
    "\n",
    "<description> \n",
    "\"지민의 손끝에서 푸른 빛이 춤추듯 일렁였다. 준호의 눈이 휘둥그레졌다. 서울의 밤하늘보다 더 아름다운 광경이었다.\"\n",
    "</description>\n",
    "\n",
    "<pacing> \n",
    "잔잔한 일상 묘사와 긴박한 액션 신을 번갈아가며 독자의 흥미를 유지.\n",
    "</pacing>\n",
    "\n",
    "위 소설의 구성 요소를 모두 활용해서 소설을 1부만 작성해주세요.\n",
    "\n",
    "소설의 출력은 다음  OUTPUT에 따라 출력 해주세요\n",
    "\n",
    "<output_format>\n",
    "{{\n",
    "    \"title\": 소설의 제목,\n",
    "    \"content\": 소설의 내용,\n",
    "}}\n",
    "</output_format>\n",
    "\"\"\""
   ]
  },
  {
   "cell_type": "code",
   "execution_count": 19,
   "id": "9837c686",
   "metadata": {},
   "outputs": [
    {
     "data": {
      "text/plain": [
       "'}}\\n</output_format>\\n'"
      ]
     },
     "execution_count": 19,
     "metadata": {},
     "output_type": "execute_result"
    }
   ],
   "source": [
    "prompt2[-20:]"
   ]
  },
  {
   "cell_type": "code",
   "execution_count": 20,
   "id": "a10769b3",
   "metadata": {},
   "outputs": [
    {
     "data": {
      "text/markdown": [
       "{\n",
       "    \"title\": \"숨겨진 빛\",\n",
       "    \"content\": \"서울의 밤거리는 언제나 화려했다. 네온사인과 LED 전광판이 만들어내는 빛의 향연 속에서, 지민은 자신만의 빛을 숨기려 애썼다. 27살, IT 회사 직원이라는 평범한 타이틀 뒤에 감춰진 그녀의 비밀은 아무도 모르는 곳에서 조용히 꿈틀거렸다.\n",
       "\n",
       "'오늘도 무사히 넘어갔다.' 퇴근길, 지하철 안에서 지민은 안도의 한숨을 내쉬었다. 그녀의 손끝에서 간간이 새어나오는 푸른 빛을 아무도 눈치채지 못한 것이다. 하지만 운명은 그녀에게 평범한 삶을 허락하지 않으려는 듯했다.\n",
       "\n",
       "\"잠깐만요!\" 갑자기 들려온 남자의 목소리에 지민은 흠칫 놀랐다. 고개를 들어보니 훤칠한 키에 날카로운 눈매를 가진 남자가 그녀를 바라보고 있었다.\n",
       "\n",
       "\"혹시... 이거 놓치신 것 같아서요.\" 남자는 지민의 손목시계를 내밀었다. 그 순간, 지민의 손끝에서 푸른 빛이 순간적으로 번쩍였다. 남자의 눈이 휘둥그레졌다.\n",
       "\n",
       "\"아, 네. 감사합니다.\" 지민은 황급히 시계를 받아들며 손을 감췄다. 하지만 이미 늦었다는 걸 그녀도 알고 있었다.\n",
       "\n",
       "남자는 준호였다. 30살, 겉으로는 평범한 회사원이지만 사실은 초능력자들을 찾아내는 비밀 요원이었다. 그는 지민의 능력을 목격한 순간 심장이 빠르게 뛰는 것을 느꼈다. 임무와 호기심, 그리고 설명할 수 없는 끌림이 뒤섞인 감정이었다.\n",
       "\n",
       "그날 이후 준호는 지민을 은밀히 관찰하기 시작했다. 그녀의 일상은 너무나 평범해 보였다. 하지만 가끔 그녀가 혼자 있을 때 보이는 푸른 빛은 분명 초능력의 징후였다.\n",
       "\n",
       "한편 지민은 자신을 주시하는 시선을 느끼고 있었다. '들킨 걸까?' 불안과 초조함이 그녀를 괴롭혔다. 하지만 동시에 자신의 비밀을 누군가와 나누고 싶은 욕구도 커져갔다.\n",
       "\n",
       "어느 날 밤, 야근을 마치고 회사를 나서던 지민은 어둠 속에서 그녀를 기다리고 있던 준호와 마주쳤다.\n",
       "\n",
       "\"우리 좀 이야기 할 수 있을까요?\" 준호의 진지한 목소리에 지민은 잠시 망설였지만, 이제는 더 이상 도망칠 수 없다는 것을 깨달았다.\n",
       "\n",
       "두 사람은 한강변을 걸으며 이야기를 나누기 시작했다. 준호는 자신의 정체를 밝혔고, 지민은 그동안 숨겨왔던 능력에 대해 조금씩 털어놓았다.\n",
       "\n",
       "\"네 능력이 위험할 수 있어. 하지만 난 널 지키고 싶어.\" 준호의 말에 지민은 복잡한 감정을 느꼈다. 두려움과 안도감, 그리고 설렘이 뒤섞였다.\n",
       "\n",
       "그들의 대화는 깊어져갔다. 하지만 그들도 모르는 사이, 어둠 속에서 그들을 지켜보는 또 다른 시선이 있었다. 서진, 35세의 여성. 그녀는 초능력자들을 이용해 세계를 지배하려는 비밀 조직의 리더였다.\n",
       "\n",
       "\"드디어 찾았군.\" 서진의 입가에 미소가 번졌다. 지민의 능력은 그녀의 계획에 꼭 필요한 것이었다.\n",
       "\n",
       "밤이 깊어갈수록 서울의 불빛은 더욱 화려해졌다. 그 빛의 향연 속에서, 지민과 준호는 서로를 향한 믿음을 쌓아가고 있었다. 하지만 그들은 아직 모르고 있었다. 이것이 그들의 운명을 뒤흔들 거대한 소용돌이의 시작이라는 것을...\"\n"
      ],
      "text/plain": [
       "<IPython.core.display.Markdown object>"
      ]
     },
     "metadata": {},
     "output_type": "display_data"
    }
   ],
   "source": [
    "response = client.messages.create(\n",
    "    model = 'claude-3-5-sonnet-20240620',\n",
    "    messages=[\n",
    "        {'role':'user', 'content': prompt2}\n",
    "        ],\n",
    "    max_tokens=2048,\n",
    "    temperature=0,\n",
    "    stop_sequences=['}']\n",
    ")\n",
    "display(Markdown(response.content[0].text))"
   ]
  },
  {
   "cell_type": "code",
   "execution_count": null,
   "id": "03498d49",
   "metadata": {},
   "outputs": [],
   "source": []
  }
 ],
 "metadata": {
  "kernelspec": {
   "display_name": "prompt_basic_20250618",
   "language": "python",
   "name": "python3"
  },
  "language_info": {
   "codemirror_mode": {
    "name": "ipython",
    "version": 3
   },
   "file_extension": ".py",
   "mimetype": "text/x-python",
   "name": "python",
   "nbconvert_exporter": "python",
   "pygments_lexer": "ipython3",
   "version": "3.13.2"
  }
 },
 "nbformat": 4,
 "nbformat_minor": 5
}
