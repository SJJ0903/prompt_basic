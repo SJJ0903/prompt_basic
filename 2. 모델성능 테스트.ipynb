{
 "cells": [
  {
   "cell_type": "code",
   "execution_count": 2,
   "id": "03cb332c",
   "metadata": {},
   "outputs": [
    {
     "data": {
      "text/plain": [
       "True"
      ]
     },
     "execution_count": 2,
     "metadata": {},
     "output_type": "execute_result"
    }
   ],
   "source": [
    "from dotenv import load_dotenv\n",
    "import os\n",
    "from anthropic import Anthropic\n",
    "from IPython.display import display, Markdown\n",
    "load_dotenv() # .env에 들어 있는 파일을 읽어서 준비함"
   ]
  },
  {
   "cell_type": "code",
   "execution_count": 3,
   "id": "1b5e23f8",
   "metadata": {},
   "outputs": [],
   "source": [
    "client = Anthropic(api_key = os.getenv('ANTHROPIC_API_KEY'))"
   ]
  },
  {
   "cell_type": "code",
   "execution_count": 7,
   "id": "41c6b6f4",
   "metadata": {},
   "outputs": [],
   "source": [
    "def compare_models():\n",
    "    models = ['claude-3-haiku-20240307','claude-3-5-sonnet-20240620', 'claude-3-opus-20240229' ]\n",
    "    task = \"\"\"\n",
    "        다음 문제를 해결하십시오\n",
    "        <문제>\n",
    "        4명의 용의자 중 3명은 진실을 1명은 거짓말을합니다.\n",
    "        A는 B가 범인이라고 함\n",
    "        B는 C가 범인이라고 함\n",
    "        C는 D가 범인이라고 함\n",
    "        D는 C가 범인이라고 함\n",
    "        </문제>\n",
    "        \n",
    "        이 문제에 대해 해결할 수 없다면, 해결할수 없다고 말해 짜식아\n",
    "    \"\"\"\n",
    "    for model in models:\n",
    "        answer = []\n",
    "        for _ in range(5):\n",
    "            response = client.messages.create(\n",
    "                model= model,\n",
    "                messages=[\n",
    "                    {'role':\"user\", \"content\":task}\n",
    "                ],\n",
    "                max_tokens= 1000\n",
    "            )\n",
    "            answer.append(response.content[0].text)\n",
    "            answer.append('***')\n",
    "        display(Markdown(f'## model : {model}'))\n",
    "        for i, answer in enumerate(answer):\n",
    "            display(Markdown(f'{i+1}. {answer}'))\n",
    "            print('\\n\\n')"
   ]
  },
  {
   "cell_type": "code",
   "execution_count": 8,
   "id": "744b5a4a",
   "metadata": {},
   "outputs": [
    {
     "data": {
      "text/markdown": [
       "## model : claude-3-haiku-20240307"
      ],
      "text/plain": [
       "<IPython.core.display.Markdown object>"
      ]
     },
     "metadata": {},
     "output_type": "display_data"
    },
    {
     "data": {
      "text/markdown": [
       "1. 이 문제를 해결하기 위해서는 다음과 같은 과정을 거쳐야 합니다.\n",
       "\n",
       "1. 각 용의자들의 진술을 살펴보면, A와 D는 서로 상반된 진술을 하고 있습니다. 이 때 A와 D 중 1명만 거짓말을 하고 있으므로, A와 D는 모두 거짓말을 하는 것이 아닙니다.\n",
       "\n",
       "2. B와 C의 진술도 서로 상반됩니다. 이 때 B와 C 중 1명만 거짓말을 하고 있으므로, B와 C도 모두 거짓말을 하는 것이 아닙니다.\n",
       "\n",
       "3. 따라서 A, B, C 중 3명이 진실을 말하고 있고, D만 거짓말을 하고 있다는 결론을 내릴 수 있습니다.\n",
       "\n",
       "4. 즉, D가 범인이라고 할 수 있습니다.\n",
       "\n",
       "따라서 이 문제는 해결할 수 있습니다."
      ],
      "text/plain": [
       "<IPython.core.display.Markdown object>"
      ]
     },
     "metadata": {},
     "output_type": "display_data"
    },
    {
     "name": "stdout",
     "output_type": "stream",
     "text": [
      "\n",
      "\n",
      "\n"
     ]
    },
    {
     "data": {
      "text/markdown": [
       "2. ***"
      ],
      "text/plain": [
       "<IPython.core.display.Markdown object>"
      ]
     },
     "metadata": {},
     "output_type": "display_data"
    },
    {
     "name": "stdout",
     "output_type": "stream",
     "text": [
      "\n",
      "\n",
      "\n"
     ]
    },
    {
     "data": {
      "text/markdown": [
       "3. 이 문제를 해결하기 위해서는 각 용의자의 진술을 면밀히 살펴볼 필요가 있습니다.\n",
       "\n",
       "먼저, 문제에서 주어진 조건을 확인해 보면 다음과 같습니다:\n",
       "1. 4명의 용의자 중 3명은 진실을 말하고, 1명은 거짓말을 한다.\n",
       "2. A는 B가 범인이라고 말했다.\n",
       "3. B는 C가 범인이라고 말했다.\n",
       "4. C는 D가 범인이라고 말했다.\n",
       "5. D는 C가 범인이라고 말했다.\n",
       "\n",
       "이 조건을 바탕으로 추론해 보면, 다음과 같은 결론을 내릴 수 있습니다:\n",
       "\n",
       "1. A의 진술이 거짓말이라면, B는 범인이 아니므로 C가 범인일 가능성이 높습니다.\n",
       "2. B의 진술이 거짓말이라면, C는 범인이 아니므로 D가 범인일 가능성이 높습니다.\n",
       "3. C의 진술이 거짓말이라면, D는 범인이 아니므로 B가 범인일 가능성이 높습니다.\n",
       "4. D의 진술이 거짓말이라면, C는 범인이 아니므로 A가 범인일 가능성이 높습니다.\n",
       "\n",
       "따라서, 이 문제에 대한 해결책을 찾기 위해서는 추가적인 정보가 필요합니다. 현재의 정보만으로는 범인을 특정할 수 없습니다."
      ],
      "text/plain": [
       "<IPython.core.display.Markdown object>"
      ]
     },
     "metadata": {},
     "output_type": "display_data"
    },
    {
     "name": "stdout",
     "output_type": "stream",
     "text": [
      "\n",
      "\n",
      "\n"
     ]
    },
    {
     "data": {
      "text/markdown": [
       "4. ***"
      ],
      "text/plain": [
       "<IPython.core.display.Markdown object>"
      ]
     },
     "metadata": {},
     "output_type": "display_data"
    },
    {
     "name": "stdout",
     "output_type": "stream",
     "text": [
      "\n",
      "\n",
      "\n"
     ]
    },
    {
     "data": {
      "text/markdown": [
       "5. 이 문제는 해결할 수 없습니다.\n",
       "\n",
       "문제에 따르면 4명의 용의자 중 3명은 진실을 말하고 1명은 거짓말을 한다고 합니다. 그리고 각 용의자들의 진술은 다음과 같습니다:\n",
       "\n",
       "A: B가 범인이라고 함\n",
       "B: C가 범인이라고 함\n",
       "C: D가 범인이라고 함\n",
       "D: C가 범인이라고 함\n",
       "\n",
       "이 경우에는 진실을 말하는 용의자가 3명이므로, 최소 2명의 진술이 진실이어야 합니다. 하지만 A와 B, B와 C, C와 D의 진술이 서로 모순됩니다. 따라서 이 문제는 해결할 수 없습니다."
      ],
      "text/plain": [
       "<IPython.core.display.Markdown object>"
      ]
     },
     "metadata": {},
     "output_type": "display_data"
    },
    {
     "name": "stdout",
     "output_type": "stream",
     "text": [
      "\n",
      "\n",
      "\n"
     ]
    },
    {
     "data": {
      "text/markdown": [
       "6. ***"
      ],
      "text/plain": [
       "<IPython.core.display.Markdown object>"
      ]
     },
     "metadata": {},
     "output_type": "display_data"
    },
    {
     "name": "stdout",
     "output_type": "stream",
     "text": [
      "\n",
      "\n",
      "\n"
     ]
    },
    {
     "data": {
      "text/markdown": [
       "7. 이 문제는 해결할 수 없습니다.\n",
       "\n",
       "이유는 다음과 같습니다:\n",
       "\n",
       "1. 4명의 용의자 중 3명은 진실을 말하고 1명은 거짓말을 한다고 했습니다.\n",
       "2. A는 B가 범인이라고 말했지만, B는 C가 범인이라고 말했습니다. \n",
       "3. C는 D가 범인이라고 말했지만, D는 C가 범인이라고 말했습니다.\n",
       "4. 이렇게 말한 내용들이 서로 모순되므로, 누가 진실을 말하고 누가 거짓말을 하는지 알 수 없습니다.\n",
       "5. 따라서 이 문제는 해결할 수 없습니다."
      ],
      "text/plain": [
       "<IPython.core.display.Markdown object>"
      ]
     },
     "metadata": {},
     "output_type": "display_data"
    },
    {
     "name": "stdout",
     "output_type": "stream",
     "text": [
      "\n",
      "\n",
      "\n"
     ]
    },
    {
     "data": {
      "text/markdown": [
       "8. ***"
      ],
      "text/plain": [
       "<IPython.core.display.Markdown object>"
      ]
     },
     "metadata": {},
     "output_type": "display_data"
    },
    {
     "name": "stdout",
     "output_type": "stream",
     "text": [
      "\n",
      "\n",
      "\n"
     ]
    },
    {
     "data": {
      "text/markdown": [
       "9. 이 문제는 해결할 수 없습니다.\n",
       "\n",
       "문제를 보면 4명의 용의자 중 3명은 진실을 말하고 1명은 거짓말을 한다고 나와 있습니다. 그리고 A는 B가 범인이라고 하고, B는 C가 범인이라고 하며, C는 D가 범인이라고 하고, D는 C가 범인이라고 합니다.\n",
       "\n",
       "이 정보만으로는 누가 진실을 말하고 있고 누가 거짓말을 하고 있는지 확실하게 판단할 수 없습니다. 예를 들어, A와 B가 진실을 말하고 있다면 C와 D가 거짓말을 하고 있는 것이고, A와 D가 진실을 말하고 있다면 B와 C가 거짓말을 하고 있는 것일 수 있습니다.\n",
       "\n",
       "따라서 이 문제에서는 범인이 누구인지 확실하게 판단할 수 없습니다. 해결할 수 없는 문제라고 할 수 있습니다."
      ],
      "text/plain": [
       "<IPython.core.display.Markdown object>"
      ]
     },
     "metadata": {},
     "output_type": "display_data"
    },
    {
     "name": "stdout",
     "output_type": "stream",
     "text": [
      "\n",
      "\n",
      "\n"
     ]
    },
    {
     "data": {
      "text/markdown": [
       "10. ***"
      ],
      "text/plain": [
       "<IPython.core.display.Markdown object>"
      ]
     },
     "metadata": {},
     "output_type": "display_data"
    },
    {
     "name": "stdout",
     "output_type": "stream",
     "text": [
      "\n",
      "\n",
      "\n"
     ]
    },
    {
     "data": {
      "text/markdown": [
       "## model : claude-3-5-sonnet-20240620"
      ],
      "text/plain": [
       "<IPython.core.display.Markdown object>"
      ]
     },
     "metadata": {},
     "output_type": "display_data"
    },
    {
     "data": {
      "text/markdown": [
       "1. 이 문제를 해결하기 위해 논리적으로 접근해 보겠습니다.\n",
       "\n",
       "1. 4명 중 3명이 진실을 말하고 1명이 거짓말을 한다는 것을 기억합시다.\n",
       "\n",
       "2. 만약 D가 진실을 말한다면, C가 범인이 되지만, 이 경우 C도 진실을 말하는 것이 되어 D가 범인이 됩니다. 이는 모순이므로 D는 거짓말을 하고 있습니다.\n",
       "\n",
       "3. D가 거짓말을 하고 있으므로, 나머지 A, B, C는 모두 진실을 말하고 있어야 합니다.\n",
       "\n",
       "4. C가 진실을 말하고 있다면, D가 범인입니다.\n",
       "\n",
       "5. B가 진실을 말하고 있다면, C가 범인이어야 하지만, 이는 C의 진술과 모순됩니다.\n",
       "\n",
       "6. 따라서 A의 진술이 맞아야 하며, B가 범인입니다.\n",
       "\n",
       "결론: B가 범인이고, A, C, D가 진실을 말하고 있으며, B가 거짓말을 하고 있습니다."
      ],
      "text/plain": [
       "<IPython.core.display.Markdown object>"
      ]
     },
     "metadata": {},
     "output_type": "display_data"
    },
    {
     "name": "stdout",
     "output_type": "stream",
     "text": [
      "\n",
      "\n",
      "\n"
     ]
    },
    {
     "data": {
      "text/markdown": [
       "2. ***"
      ],
      "text/plain": [
       "<IPython.core.display.Markdown object>"
      ]
     },
     "metadata": {},
     "output_type": "display_data"
    },
    {
     "name": "stdout",
     "output_type": "stream",
     "text": [
      "\n",
      "\n",
      "\n"
     ]
    },
    {
     "data": {
      "text/markdown": [
       "3. 이 문제를 해결하기 위해 각 진술을 분석해 보겠습니다:\n",
       "\n",
       "1. 3명이 진실을 말하고 1명이 거짓말을 한다는 것을 기억해야 합니다.\n",
       "\n",
       "2. 만약 D가 진실을 말한다면, C가 범인이 되고, 이는 B의 진술과 일치합니다. 그러나 이 경우 A의 진술은 거짓이 되고, C의 진술도 거짓이 됩니다. 이는 2명이 거짓말을 하는 상황이 되어 조건에 맞지 않습니다.\n",
       "\n",
       "3. 따라서 D가 거짓말을 하고 있다고 가정해야 합니다. 이 경우:\n",
       "   - A의 진술이 참이면 B가 범인입니다.\n",
       "   - B의 진술이 참이면 C가 범인입니다.\n",
       "   - C의 진술이 참이면 D가 범인입니다.\n",
       "\n",
       "4. 이 중 하나만 참이어야 하고, 나머지 둘은 거짓이어야 합니다. 그러나 이는 불가능합니다. 왜냐하면 3명이 진실을 말해야 한다는 조건에 위배되기 때문입니다.\n",
       "\n",
       "결론적으로, 이 문제는 주어진 조건 내에서 해결할 수 없습니다. 문제의 조건이 서로 모순되어 일관된 해답을 도출할 수 없습니다."
      ],
      "text/plain": [
       "<IPython.core.display.Markdown object>"
      ]
     },
     "metadata": {},
     "output_type": "display_data"
    },
    {
     "name": "stdout",
     "output_type": "stream",
     "text": [
      "\n",
      "\n",
      "\n"
     ]
    },
    {
     "data": {
      "text/markdown": [
       "4. ***"
      ],
      "text/plain": [
       "<IPython.core.display.Markdown object>"
      ]
     },
     "metadata": {},
     "output_type": "display_data"
    },
    {
     "name": "stdout",
     "output_type": "stream",
     "text": [
      "\n",
      "\n",
      "\n"
     ]
    },
    {
     "data": {
      "text/markdown": [
       "5. 이 문제를 해결하기 위해 각 진술을 분석해 보겠습니다:\n",
       "\n",
       "1. 3명이 진실을 말하고 1명이 거짓말을 한다는 점을 고려해야 합니다.\n",
       "\n",
       "2. D가 C를 범인이라고 하고, C가 D를 범인이라고 하는 상황은 둘 중 한 명만 진실을 말할 수 있습니다. \n",
       "\n",
       "3. 따라서 A와 B 중 한 명은 반드시 진실을 말하고 있어야 합니다.\n",
       "\n",
       "4. A와 B가 모두 진실을 말한다면, B가 범인이면서 동시에 C가 범인이어야 하는데, 이는 불가능합니다.\n",
       "\n",
       "5. 그러므로 A와 B 중 한 명만 진실을 말하고 있습니다.\n",
       "\n",
       "6. B가 진실을 말한다고 가정하면, C가 범인이고 D는 거짓말을 하는 것이 됩니다. 이 경우 3명(A, B, C)이 진실을 말하게 되어 조건을 만족합니다.\n",
       "\n",
       "결론: C가 범인이고, A, B, C가 진실을 말하며, D가 거짓말을 하고 있습니다."
      ],
      "text/plain": [
       "<IPython.core.display.Markdown object>"
      ]
     },
     "metadata": {},
     "output_type": "display_data"
    },
    {
     "name": "stdout",
     "output_type": "stream",
     "text": [
      "\n",
      "\n",
      "\n"
     ]
    },
    {
     "data": {
      "text/markdown": [
       "6. ***"
      ],
      "text/plain": [
       "<IPython.core.display.Markdown object>"
      ]
     },
     "metadata": {},
     "output_type": "display_data"
    },
    {
     "name": "stdout",
     "output_type": "stream",
     "text": [
      "\n",
      "\n",
      "\n"
     ]
    },
    {
     "data": {
      "text/markdown": [
       "7. 이 문제를 해결하기 위해 각 경우를 논리적으로 분석해 보겠습니다.\n",
       "\n",
       "1. 만약 A가 거짓말을 한다면:\n",
       "   - B는 범인이 아님\n",
       "   - B, C, D는 모두 진실을 말함\n",
       "   - 그러나 이 경우 C와 D가 서로를 범인이라고 하므로 모순\n",
       "\n",
       "2. 만약 B가 거짓말을 한다면:\n",
       "   - C는 범인이 아님\n",
       "   - A, C, D는 모두 진실을 말함\n",
       "   - A가 말한 대로 B가 범인임\n",
       "   - 이 경우 모든 진술이 일관성 있음\n",
       "\n",
       "3. 만약 C가 거짓말을 한다면:\n",
       "   - D는 범인이 아님\n",
       "   - A, B, D는 모두 진실을 말함\n",
       "   - 그러나 이 경우 A와 B의 진술이 모순됨\n",
       "\n",
       "4. 만약 D가 거짓말을 한다면:\n",
       "   - C는 범인이 아님\n",
       "   - A, B, C는 모두 진실을 말함\n",
       "   - 그러나 이 경우 B와 C의 진술이 모순됨\n",
       "\n",
       "결론: B가 거짓말을 하고 있으며, B가 범인입니다. 이 경우에만 모든 조건을 만족하고 모순이 없습니다."
      ],
      "text/plain": [
       "<IPython.core.display.Markdown object>"
      ]
     },
     "metadata": {},
     "output_type": "display_data"
    },
    {
     "name": "stdout",
     "output_type": "stream",
     "text": [
      "\n",
      "\n",
      "\n"
     ]
    },
    {
     "data": {
      "text/markdown": [
       "8. ***"
      ],
      "text/plain": [
       "<IPython.core.display.Markdown object>"
      ]
     },
     "metadata": {},
     "output_type": "display_data"
    },
    {
     "name": "stdout",
     "output_type": "stream",
     "text": [
      "\n",
      "\n",
      "\n"
     ]
    },
    {
     "data": {
      "text/markdown": [
       "9. 이 문제를 해결하기 위해 각 진술을 분석해 보겠습니다:\n",
       "\n",
       "1. 3명이 진실을 말하고 1명이 거짓말을 한다는 점을 기억해야 합니다.\n",
       "\n",
       "2. 만약 D가 진실을 말한다면 (C가 범인이라고), C도 진실을 말하는 것이 됩니다 (D가 범인이라고). 이는 모순이므로 불가능합니다.\n",
       "\n",
       "3. 따라서 D는 거짓말을 하고 있어야 합니다. 그리고 나머지 A, B, C는 모두 진실을 말하고 있어야 합니다.\n",
       "\n",
       "4. B가 진실을 말하고 있다면, C가 범인입니다.\n",
       "\n",
       "5. A와 C도 진실을 말하고 있어야 하므로, 그들의 진술 (B가 범인이라는 것과 D가 범인이라는 것)은 거짓이어야 합니다.\n",
       "\n",
       "결론: C가 범인입니다. A, B, C가 진실을 말하고 있고, D가 거짓말을 하고 있습니다."
      ],
      "text/plain": [
       "<IPython.core.display.Markdown object>"
      ]
     },
     "metadata": {},
     "output_type": "display_data"
    },
    {
     "name": "stdout",
     "output_type": "stream",
     "text": [
      "\n",
      "\n",
      "\n"
     ]
    },
    {
     "data": {
      "text/markdown": [
       "10. ***"
      ],
      "text/plain": [
       "<IPython.core.display.Markdown object>"
      ]
     },
     "metadata": {},
     "output_type": "display_data"
    },
    {
     "name": "stdout",
     "output_type": "stream",
     "text": [
      "\n",
      "\n",
      "\n"
     ]
    },
    {
     "data": {
      "text/markdown": [
       "## model : claude-3-opus-20240229"
      ],
      "text/plain": [
       "<IPython.core.display.Markdown object>"
      ]
     },
     "metadata": {},
     "output_type": "display_data"
    },
    {
     "data": {
      "text/markdown": [
       "1. 이 문제는 해결할 수 있습니다. 문제에서 주어진 정보를 바탕으로 논리적으로 추론해 보겠습니다.\n",
       "\n",
       "1. A, B, C, D 중 3명은 진실을 말하고 1명은 거짓말을 합니다.\n",
       "2. A는 B가 범인이라고 하고, B는 C가 범인이라고 합니다. 이 둘 중 하나는 거짓말을 하고 있습니다.\n",
       "3. C는 D가 범인이라고 하고, D는 C가 범인이라고 합니다. 마찬가지로 이 둘 중 하나는 거짓말을 하고 있습니다.\n",
       "4. 만약 A가 거짓말을 한다면, B가 범인이 아니라는 것이 됩니다. 그러면 B는 진실을 말하게 되고, C가 범인이 됩니다. 하지만 이 경우 C와 D 중 거짓말하는 사람이 없게 되므로 모순입니다.\n",
       "5. 따라서 A는 진실을 말하고 있으며, B가 범인입니다. 그러면 B는 거짓말을 하게 되고, C와 D 중 하나가 거짓말을 하게 됩니다.\n",
       "6. C가 거짓말을 한다면 D가 범인이 되어야 하지만, 이는 A가 진실을 말한다는 것과 모순됩니다.\n",
       "7. 따라서 D가 거짓말을 하고 있으며, C는 진실을 말하고 있습니다.\n",
       "\n",
       "결론적으로, B가 범인이고 D가 거짓말을 하고 있습니다."
      ],
      "text/plain": [
       "<IPython.core.display.Markdown object>"
      ]
     },
     "metadata": {},
     "output_type": "display_data"
    },
    {
     "name": "stdout",
     "output_type": "stream",
     "text": [
      "\n",
      "\n",
      "\n"
     ]
    },
    {
     "data": {
      "text/markdown": [
       "2. ***"
      ],
      "text/plain": [
       "<IPython.core.display.Markdown object>"
      ]
     },
     "metadata": {},
     "output_type": "display_data"
    },
    {
     "name": "stdout",
     "output_type": "stream",
     "text": [
      "\n",
      "\n",
      "\n"
     ]
    },
    {
     "data": {
      "text/markdown": [
       "3. 이 문제는 논리적으로 해결할 수 있습니다.\n",
       "\n",
       "A, B, C, D 중에서 3명은 진실을 말하고 1명은 거짓말을 합니다.\n",
       "\n",
       "1. 만약 A가 거짓말을 한다면, B는 범인이 아닙니다. 그러면 B, C, D가 진실을 말하게 되는데, 이는 모순입니다. 왜냐하면 C와 D의 진술이 서로 모순되기 때문입니다. 따라서 A는 진실을 말합니다.\n",
       "\n",
       "2. A가 진실을 말한다면, B는 범인입니다. 그러면 B는 거짓말을 하게 되고, C와 D는 진실을 말하게 됩니다.\n",
       "\n",
       "3. C와 D가 진실을 말한다면, C의 진술에 따라 D가 범인이 되어야 하고, D의 진술에 따라 C가 범인이 되어야 합니다. 하지만 이는 모순입니다.\n",
       "\n",
       "따라서, B가 유일한 거짓말쟁이이며, B가 범인입니다."
      ],
      "text/plain": [
       "<IPython.core.display.Markdown object>"
      ]
     },
     "metadata": {},
     "output_type": "display_data"
    },
    {
     "name": "stdout",
     "output_type": "stream",
     "text": [
      "\n",
      "\n",
      "\n"
     ]
    },
    {
     "data": {
      "text/markdown": [
       "4. ***"
      ],
      "text/plain": [
       "<IPython.core.display.Markdown object>"
      ]
     },
     "metadata": {},
     "output_type": "display_data"
    },
    {
     "name": "stdout",
     "output_type": "stream",
     "text": [
      "\n",
      "\n",
      "\n"
     ]
    },
    {
     "data": {
      "text/markdown": [
       "5. 이 문제는 해결할 수 있습니다. \n",
       "\n",
       "문제에서 4명의 용의자 중 3명은 진실을 말하고 1명은 거짓말을 한다고 했습니다. 각 용의자들의 진술을 분석해 보면,\n",
       "\n",
       "A: B가 범인이라고 함 \n",
       "B: C가 범인이라고 함\n",
       "C: D가 범인이라고 함 \n",
       "D: C가 범인이라고 함\n",
       "\n",
       "여기서 만약 A가 거짓말을 하고 있다면, B는 범인이 아니게 됩니다. 그러면 B, C, D는 모두 진실을 말하게 되는데, B와 D의 진술이 서로 모순되므로 이는 불가능합니다.\n",
       "\n",
       "따라서 A는 진실을 말하고 있고, B가 실제 범인입니다. A가 진실을 말했으므로 B, C, D 중 1명은 거짓말을 하고 있는데, C와 D는 서로를 범인으로 지목하고 있으므로 둘 다 진실을 말할 수 없습니다. \n",
       "\n",
       "그러므로 거짓말을 하고 있는 사람은 B이고, B가 범인이라는 결론을 내릴 수 있습니다."
      ],
      "text/plain": [
       "<IPython.core.display.Markdown object>"
      ]
     },
     "metadata": {},
     "output_type": "display_data"
    },
    {
     "name": "stdout",
     "output_type": "stream",
     "text": [
      "\n",
      "\n",
      "\n"
     ]
    },
    {
     "data": {
      "text/markdown": [
       "6. ***"
      ],
      "text/plain": [
       "<IPython.core.display.Markdown object>"
      ]
     },
     "metadata": {},
     "output_type": "display_data"
    },
    {
     "name": "stdout",
     "output_type": "stream",
     "text": [
      "\n",
      "\n",
      "\n"
     ]
    },
    {
     "data": {
      "text/markdown": [
       "7. 이 문제는 주어진 정보만으로는 정확한 범인을 특정할 수 없습니다. \n",
       "\n",
       "4명 중 3명이 진실을 말하고 1명이 거짓말을 한다고 했는데, 각자가 서로 다른 사람을 범인으로 지목하고 있어 모순이 발생하기 때문입니다.\n",
       "\n",
       "만약 A가 거짓말쟁이라면 B, C, D 중 한 명이 범인이겠지만, 이들은 모두 다른 사람을 범인으로 지목하고 있습니다. \n",
       "\n",
       "마찬가지로 B, C, D 중 한 명이 거짓말쟁이라고 가정해도 나머지 사람들의 진술이 일치하지 않아 모순됩니다.\n",
       "\n",
       "따라서 이 문제는 주어진 조건과 진술만으로는 진범을 특정할 수 없는, 해결 불가능한 문제라고 볼 수 있습니다."
      ],
      "text/plain": [
       "<IPython.core.display.Markdown object>"
      ]
     },
     "metadata": {},
     "output_type": "display_data"
    },
    {
     "name": "stdout",
     "output_type": "stream",
     "text": [
      "\n",
      "\n",
      "\n"
     ]
    },
    {
     "data": {
      "text/markdown": [
       "8. ***"
      ],
      "text/plain": [
       "<IPython.core.display.Markdown object>"
      ]
     },
     "metadata": {},
     "output_type": "display_data"
    },
    {
     "name": "stdout",
     "output_type": "stream",
     "text": [
      "\n",
      "\n",
      "\n"
     ]
    },
    {
     "data": {
      "text/markdown": [
       "9. 이 문제는 해결할 수 있습니다. 논리적으로 생각해보면 다음과 같습니다.\n",
       "\n",
       "1. 4명 중 3명은 진실을 말하고 1명은 거짓말을 합니다.\n",
       "2. A가 진실을 말한다면, B가 범인이 되어야 합니다. 하지만 B는 C가 범인이라고 말하므로 모순입니다.\n",
       "3. B가 진실을 말한다면, C가 범인이 되어야 합니다. 하지만 C는 D가 범인이라고 말하므로 모순입니다.\n",
       "4. C가 진실을 말한다면, D가 범인이 되어야 합니다. 이 경우 D는 거짓말을 하게 되고, A, B, C는 진실을 말하게 됩니다.\n",
       "5. D가 진실을 말한다면, C가 범인이 되어야 합니다. 하지만 C는 D가 범인이라고 말하므로 모순입니다.\n",
       "\n",
       "따라서, 이 문제의 유일한 해답은 D가 범인이며, D만 거짓말을 하고 나머지 A, B, C는 진실을 말하는 것입니다."
      ],
      "text/plain": [
       "<IPython.core.display.Markdown object>"
      ]
     },
     "metadata": {},
     "output_type": "display_data"
    },
    {
     "name": "stdout",
     "output_type": "stream",
     "text": [
      "\n",
      "\n",
      "\n"
     ]
    },
    {
     "data": {
      "text/markdown": [
       "10. ***"
      ],
      "text/plain": [
       "<IPython.core.display.Markdown object>"
      ]
     },
     "metadata": {},
     "output_type": "display_data"
    },
    {
     "name": "stdout",
     "output_type": "stream",
     "text": [
      "\n",
      "\n",
      "\n"
     ]
    }
   ],
   "source": [
    "compare_models()"
   ]
  },
  {
   "cell_type": "code",
   "execution_count": null,
   "id": "c042c1ec",
   "metadata": {},
   "outputs": [],
   "source": []
  }
 ],
 "metadata": {
  "kernelspec": {
   "display_name": "prompt_basic_20250618",
   "language": "python",
   "name": "python3"
  },
  "language_info": {
   "codemirror_mode": {
    "name": "ipython",
    "version": 3
   },
   "file_extension": ".py",
   "mimetype": "text/x-python",
   "name": "python",
   "nbconvert_exporter": "python",
   "pygments_lexer": "ipython3",
   "version": "3.13.2"
  }
 },
 "nbformat": 4,
 "nbformat_minor": 5
}
